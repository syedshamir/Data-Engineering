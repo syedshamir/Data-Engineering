{
  "nbformat": 4,
  "nbformat_minor": 0,
  "metadata": {
    "colab": {
      "provenance": []
    },
    "kernelspec": {
      "name": "python3",
      "display_name": "Python 3"
    },
    "language_info": {
      "name": "python"
    }
  },
  "cells": [
    {
      "cell_type": "markdown",
      "source": [
        "## Objectives\n",
        "\n",
        "After completing this lab you will be able to:\n",
        "\n",
        "*   Read CSV and JSON file types.\n",
        "*   Extract data from the above file types.\n",
        "*   Transform data.\n",
        "*   Save the transformed data in a ready-to-load format which data engineers can use to load into an RDBMS.\n"
      ],
      "metadata": {
        "id": "LFsVGwraJTRq"
      }
    },
    {
      "cell_type": "code",
      "source": [
        "import glob                         # this module helps in selecting files \n",
        "import pandas as pd                 # this module helps in processing CSV files\n",
        "import xml.etree.ElementTree as ET  # this module helps in processing XML files.\n",
        "from datetime import datetime"
      ],
      "metadata": {
        "id": "g2zCwNJqJUA7"
      },
      "execution_count": 2,
      "outputs": []
    },
    {
      "cell_type": "code",
      "source": [
        "!wget https://cf-courses-data.s3.us.cloud-object-storage.appdomain.cloud/IBMDeveloperSkillsNetwork-PY0221EN-SkillsNetwork/labs/module%206/Lab%20-%20Extract%20Transform%20Load/data/source.zip"
      ],
      "metadata": {
        "colab": {
          "base_uri": "https://localhost:8080/"
        },
        "id": "-fKYSt-fJXIi",
        "outputId": "37822f56-4d35-45a1-92c5-441051be1705"
      },
      "execution_count": 3,
      "outputs": [
        {
          "output_type": "stream",
          "name": "stdout",
          "text": [
            "--2023-04-01 09:39:18--  https://cf-courses-data.s3.us.cloud-object-storage.appdomain.cloud/IBMDeveloperSkillsNetwork-PY0221EN-SkillsNetwork/labs/module%206/Lab%20-%20Extract%20Transform%20Load/data/source.zip\n",
            "Resolving cf-courses-data.s3.us.cloud-object-storage.appdomain.cloud (cf-courses-data.s3.us.cloud-object-storage.appdomain.cloud)... 169.63.118.104\n",
            "Connecting to cf-courses-data.s3.us.cloud-object-storage.appdomain.cloud (cf-courses-data.s3.us.cloud-object-storage.appdomain.cloud)|169.63.118.104|:443... connected.\n",
            "HTTP request sent, awaiting response... 200 OK\n",
            "Length: 2707 (2.6K) [application/zip]\n",
            "Saving to: ‘source.zip’\n",
            "\n",
            "source.zip          100%[===================>]   2.64K  --.-KB/s    in 0s      \n",
            "\n",
            "2023-04-01 09:39:18 (267 MB/s) - ‘source.zip’ saved [2707/2707]\n",
            "\n"
          ]
        }
      ]
    },
    {
      "cell_type": "code",
      "source": [
        "\n"
      ],
      "metadata": {
        "colab": {
          "base_uri": "https://localhost:8080/"
        },
        "id": "CGtsJ1gNP0Wk",
        "outputId": "e12bab88-0832-4858-a8ee-1905ed4d1dc9"
      },
      "execution_count": 4,
      "outputs": [
        {
          "output_type": "stream",
          "name": "stdout",
          "text": [
            "mkdir: missing operand\n",
            "Try 'mkdir --help' for more information.\n"
          ]
        }
      ]
    },
    {
      "cell_type": "code",
      "source": [
        "!unzip source.zip"
      ],
      "metadata": {
        "colab": {
          "base_uri": "https://localhost:8080/"
        },
        "id": "Fx8qEwnSJfsY",
        "outputId": "0fbb1804-62f3-4dd4-fd71-248367f9aab8"
      },
      "execution_count": 5,
      "outputs": [
        {
          "output_type": "stream",
          "name": "stdout",
          "text": [
            "Archive:  source.zip\n",
            "  inflating: source3.json            \n",
            "  inflating: source1.csv             \n",
            "  inflating: source2.csv             \n",
            "  inflating: source3.csv             \n",
            "  inflating: source1.json            \n",
            "  inflating: source2.json            \n",
            "  inflating: source1.xml             \n",
            "  inflating: source2.xml             \n",
            "  inflating: source3.xml             \n"
          ]
        }
      ]
    },
    {
      "cell_type": "code",
      "source": [
        "\n",
        "a = pd.read_csv(\"/content/source1.csv\")\n"
      ],
      "metadata": {
        "id": "_9Oz31j8NSb_"
      },
      "execution_count": 6,
      "outputs": []
    },
    {
      "cell_type": "code",
      "source": [
        "a.head()"
      ],
      "metadata": {
        "colab": {
          "base_uri": "https://localhost:8080/",
          "height": 206
        },
        "id": "nlEp_PLBQcY4",
        "outputId": "a77e00b4-4984-47aa-e9e9-31f528ccfa7b"
      },
      "execution_count": 7,
      "outputs": [
        {
          "output_type": "execute_result",
          "data": {
            "text/plain": [
              "    name  height  weight\n",
              "0   alex   65.78  112.99\n",
              "1   ajay   71.52  136.49\n",
              "2  alice   69.40  153.03\n",
              "3   ravi   68.22  142.34\n",
              "4    joe   67.79  144.30"
            ],
            "text/html": [
              "\n",
              "  <div id=\"df-7b0ff676-7020-4d50-baa9-aa80ca9e130a\">\n",
              "    <div class=\"colab-df-container\">\n",
              "      <div>\n",
              "<style scoped>\n",
              "    .dataframe tbody tr th:only-of-type {\n",
              "        vertical-align: middle;\n",
              "    }\n",
              "\n",
              "    .dataframe tbody tr th {\n",
              "        vertical-align: top;\n",
              "    }\n",
              "\n",
              "    .dataframe thead th {\n",
              "        text-align: right;\n",
              "    }\n",
              "</style>\n",
              "<table border=\"1\" class=\"dataframe\">\n",
              "  <thead>\n",
              "    <tr style=\"text-align: right;\">\n",
              "      <th></th>\n",
              "      <th>name</th>\n",
              "      <th>height</th>\n",
              "      <th>weight</th>\n",
              "    </tr>\n",
              "  </thead>\n",
              "  <tbody>\n",
              "    <tr>\n",
              "      <th>0</th>\n",
              "      <td>alex</td>\n",
              "      <td>65.78</td>\n",
              "      <td>112.99</td>\n",
              "    </tr>\n",
              "    <tr>\n",
              "      <th>1</th>\n",
              "      <td>ajay</td>\n",
              "      <td>71.52</td>\n",
              "      <td>136.49</td>\n",
              "    </tr>\n",
              "    <tr>\n",
              "      <th>2</th>\n",
              "      <td>alice</td>\n",
              "      <td>69.40</td>\n",
              "      <td>153.03</td>\n",
              "    </tr>\n",
              "    <tr>\n",
              "      <th>3</th>\n",
              "      <td>ravi</td>\n",
              "      <td>68.22</td>\n",
              "      <td>142.34</td>\n",
              "    </tr>\n",
              "    <tr>\n",
              "      <th>4</th>\n",
              "      <td>joe</td>\n",
              "      <td>67.79</td>\n",
              "      <td>144.30</td>\n",
              "    </tr>\n",
              "  </tbody>\n",
              "</table>\n",
              "</div>\n",
              "      <button class=\"colab-df-convert\" onclick=\"convertToInteractive('df-7b0ff676-7020-4d50-baa9-aa80ca9e130a')\"\n",
              "              title=\"Convert this dataframe to an interactive table.\"\n",
              "              style=\"display:none;\">\n",
              "        \n",
              "  <svg xmlns=\"http://www.w3.org/2000/svg\" height=\"24px\"viewBox=\"0 0 24 24\"\n",
              "       width=\"24px\">\n",
              "    <path d=\"M0 0h24v24H0V0z\" fill=\"none\"/>\n",
              "    <path d=\"M18.56 5.44l.94 2.06.94-2.06 2.06-.94-2.06-.94-.94-2.06-.94 2.06-2.06.94zm-11 1L8.5 8.5l.94-2.06 2.06-.94-2.06-.94L8.5 2.5l-.94 2.06-2.06.94zm10 10l.94 2.06.94-2.06 2.06-.94-2.06-.94-.94-2.06-.94 2.06-2.06.94z\"/><path d=\"M17.41 7.96l-1.37-1.37c-.4-.4-.92-.59-1.43-.59-.52 0-1.04.2-1.43.59L10.3 9.45l-7.72 7.72c-.78.78-.78 2.05 0 2.83L4 21.41c.39.39.9.59 1.41.59.51 0 1.02-.2 1.41-.59l7.78-7.78 2.81-2.81c.8-.78.8-2.07 0-2.86zM5.41 20L4 18.59l7.72-7.72 1.47 1.35L5.41 20z\"/>\n",
              "  </svg>\n",
              "      </button>\n",
              "      \n",
              "  <style>\n",
              "    .colab-df-container {\n",
              "      display:flex;\n",
              "      flex-wrap:wrap;\n",
              "      gap: 12px;\n",
              "    }\n",
              "\n",
              "    .colab-df-convert {\n",
              "      background-color: #E8F0FE;\n",
              "      border: none;\n",
              "      border-radius: 50%;\n",
              "      cursor: pointer;\n",
              "      display: none;\n",
              "      fill: #1967D2;\n",
              "      height: 32px;\n",
              "      padding: 0 0 0 0;\n",
              "      width: 32px;\n",
              "    }\n",
              "\n",
              "    .colab-df-convert:hover {\n",
              "      background-color: #E2EBFA;\n",
              "      box-shadow: 0px 1px 2px rgba(60, 64, 67, 0.3), 0px 1px 3px 1px rgba(60, 64, 67, 0.15);\n",
              "      fill: #174EA6;\n",
              "    }\n",
              "\n",
              "    [theme=dark] .colab-df-convert {\n",
              "      background-color: #3B4455;\n",
              "      fill: #D2E3FC;\n",
              "    }\n",
              "\n",
              "    [theme=dark] .colab-df-convert:hover {\n",
              "      background-color: #434B5C;\n",
              "      box-shadow: 0px 1px 3px 1px rgba(0, 0, 0, 0.15);\n",
              "      filter: drop-shadow(0px 1px 2px rgba(0, 0, 0, 0.3));\n",
              "      fill: #FFFFFF;\n",
              "    }\n",
              "  </style>\n",
              "\n",
              "      <script>\n",
              "        const buttonEl =\n",
              "          document.querySelector('#df-7b0ff676-7020-4d50-baa9-aa80ca9e130a button.colab-df-convert');\n",
              "        buttonEl.style.display =\n",
              "          google.colab.kernel.accessAllowed ? 'block' : 'none';\n",
              "\n",
              "        async function convertToInteractive(key) {\n",
              "          const element = document.querySelector('#df-7b0ff676-7020-4d50-baa9-aa80ca9e130a');\n",
              "          const dataTable =\n",
              "            await google.colab.kernel.invokeFunction('convertToInteractive',\n",
              "                                                     [key], {});\n",
              "          if (!dataTable) return;\n",
              "\n",
              "          const docLinkHtml = 'Like what you see? Visit the ' +\n",
              "            '<a target=\"_blank\" href=https://colab.research.google.com/notebooks/data_table.ipynb>data table notebook</a>'\n",
              "            + ' to learn more about interactive tables.';\n",
              "          element.innerHTML = '';\n",
              "          dataTable['output_type'] = 'display_data';\n",
              "          await google.colab.output.renderOutput(dataTable, element);\n",
              "          const docLink = document.createElement('div');\n",
              "          docLink.innerHTML = docLinkHtml;\n",
              "          element.appendChild(docLink);\n",
              "        }\n",
              "      </script>\n",
              "    </div>\n",
              "  </div>\n",
              "  "
            ]
          },
          "metadata": {},
          "execution_count": 7
        }
      ]
    },
    {
      "cell_type": "code",
      "source": [
        "a.shape"
      ],
      "metadata": {
        "colab": {
          "base_uri": "https://localhost:8080/"
        },
        "id": "8Z6g6fQALq6F",
        "outputId": "fde0a433-6a15-41e6-ae5e-f4c861ea58ac"
      },
      "execution_count": 9,
      "outputs": [
        {
          "output_type": "execute_result",
          "data": {
            "text/plain": [
              "(5, 3)"
            ]
          },
          "metadata": {},
          "execution_count": 9
        }
      ]
    },
    {
      "cell_type": "code",
      "source": [
        "b = pd.read_json(\"/content/source1.json\", lines = True)"
      ],
      "metadata": {
        "id": "h7gLeAf7QfMt"
      },
      "execution_count": 10,
      "outputs": []
    },
    {
      "cell_type": "code",
      "source": [
        "b.head()"
      ],
      "metadata": {
        "colab": {
          "base_uri": "https://localhost:8080/",
          "height": 175
        },
        "id": "uOPEtF-OQfQq",
        "outputId": "5e8d694d-8c07-47cf-b939-f68cbfa039d0"
      },
      "execution_count": 11,
      "outputs": [
        {
          "output_type": "execute_result",
          "data": {
            "text/plain": [
              "    name  height  weight\n",
              "0   jack   68.70  123.30\n",
              "1    tom   69.80  141.49\n",
              "2  tracy   70.01  136.46\n",
              "3   john   67.90  112.37"
            ],
            "text/html": [
              "\n",
              "  <div id=\"df-ff0147e5-7bf1-43e9-8009-127da66b14b6\">\n",
              "    <div class=\"colab-df-container\">\n",
              "      <div>\n",
              "<style scoped>\n",
              "    .dataframe tbody tr th:only-of-type {\n",
              "        vertical-align: middle;\n",
              "    }\n",
              "\n",
              "    .dataframe tbody tr th {\n",
              "        vertical-align: top;\n",
              "    }\n",
              "\n",
              "    .dataframe thead th {\n",
              "        text-align: right;\n",
              "    }\n",
              "</style>\n",
              "<table border=\"1\" class=\"dataframe\">\n",
              "  <thead>\n",
              "    <tr style=\"text-align: right;\">\n",
              "      <th></th>\n",
              "      <th>name</th>\n",
              "      <th>height</th>\n",
              "      <th>weight</th>\n",
              "    </tr>\n",
              "  </thead>\n",
              "  <tbody>\n",
              "    <tr>\n",
              "      <th>0</th>\n",
              "      <td>jack</td>\n",
              "      <td>68.70</td>\n",
              "      <td>123.30</td>\n",
              "    </tr>\n",
              "    <tr>\n",
              "      <th>1</th>\n",
              "      <td>tom</td>\n",
              "      <td>69.80</td>\n",
              "      <td>141.49</td>\n",
              "    </tr>\n",
              "    <tr>\n",
              "      <th>2</th>\n",
              "      <td>tracy</td>\n",
              "      <td>70.01</td>\n",
              "      <td>136.46</td>\n",
              "    </tr>\n",
              "    <tr>\n",
              "      <th>3</th>\n",
              "      <td>john</td>\n",
              "      <td>67.90</td>\n",
              "      <td>112.37</td>\n",
              "    </tr>\n",
              "  </tbody>\n",
              "</table>\n",
              "</div>\n",
              "      <button class=\"colab-df-convert\" onclick=\"convertToInteractive('df-ff0147e5-7bf1-43e9-8009-127da66b14b6')\"\n",
              "              title=\"Convert this dataframe to an interactive table.\"\n",
              "              style=\"display:none;\">\n",
              "        \n",
              "  <svg xmlns=\"http://www.w3.org/2000/svg\" height=\"24px\"viewBox=\"0 0 24 24\"\n",
              "       width=\"24px\">\n",
              "    <path d=\"M0 0h24v24H0V0z\" fill=\"none\"/>\n",
              "    <path d=\"M18.56 5.44l.94 2.06.94-2.06 2.06-.94-2.06-.94-.94-2.06-.94 2.06-2.06.94zm-11 1L8.5 8.5l.94-2.06 2.06-.94-2.06-.94L8.5 2.5l-.94 2.06-2.06.94zm10 10l.94 2.06.94-2.06 2.06-.94-2.06-.94-.94-2.06-.94 2.06-2.06.94z\"/><path d=\"M17.41 7.96l-1.37-1.37c-.4-.4-.92-.59-1.43-.59-.52 0-1.04.2-1.43.59L10.3 9.45l-7.72 7.72c-.78.78-.78 2.05 0 2.83L4 21.41c.39.39.9.59 1.41.59.51 0 1.02-.2 1.41-.59l7.78-7.78 2.81-2.81c.8-.78.8-2.07 0-2.86zM5.41 20L4 18.59l7.72-7.72 1.47 1.35L5.41 20z\"/>\n",
              "  </svg>\n",
              "      </button>\n",
              "      \n",
              "  <style>\n",
              "    .colab-df-container {\n",
              "      display:flex;\n",
              "      flex-wrap:wrap;\n",
              "      gap: 12px;\n",
              "    }\n",
              "\n",
              "    .colab-df-convert {\n",
              "      background-color: #E8F0FE;\n",
              "      border: none;\n",
              "      border-radius: 50%;\n",
              "      cursor: pointer;\n",
              "      display: none;\n",
              "      fill: #1967D2;\n",
              "      height: 32px;\n",
              "      padding: 0 0 0 0;\n",
              "      width: 32px;\n",
              "    }\n",
              "\n",
              "    .colab-df-convert:hover {\n",
              "      background-color: #E2EBFA;\n",
              "      box-shadow: 0px 1px 2px rgba(60, 64, 67, 0.3), 0px 1px 3px 1px rgba(60, 64, 67, 0.15);\n",
              "      fill: #174EA6;\n",
              "    }\n",
              "\n",
              "    [theme=dark] .colab-df-convert {\n",
              "      background-color: #3B4455;\n",
              "      fill: #D2E3FC;\n",
              "    }\n",
              "\n",
              "    [theme=dark] .colab-df-convert:hover {\n",
              "      background-color: #434B5C;\n",
              "      box-shadow: 0px 1px 3px 1px rgba(0, 0, 0, 0.15);\n",
              "      filter: drop-shadow(0px 1px 2px rgba(0, 0, 0, 0.3));\n",
              "      fill: #FFFFFF;\n",
              "    }\n",
              "  </style>\n",
              "\n",
              "      <script>\n",
              "        const buttonEl =\n",
              "          document.querySelector('#df-ff0147e5-7bf1-43e9-8009-127da66b14b6 button.colab-df-convert');\n",
              "        buttonEl.style.display =\n",
              "          google.colab.kernel.accessAllowed ? 'block' : 'none';\n",
              "\n",
              "        async function convertToInteractive(key) {\n",
              "          const element = document.querySelector('#df-ff0147e5-7bf1-43e9-8009-127da66b14b6');\n",
              "          const dataTable =\n",
              "            await google.colab.kernel.invokeFunction('convertToInteractive',\n",
              "                                                     [key], {});\n",
              "          if (!dataTable) return;\n",
              "\n",
              "          const docLinkHtml = 'Like what you see? Visit the ' +\n",
              "            '<a target=\"_blank\" href=https://colab.research.google.com/notebooks/data_table.ipynb>data table notebook</a>'\n",
              "            + ' to learn more about interactive tables.';\n",
              "          element.innerHTML = '';\n",
              "          dataTable['output_type'] = 'display_data';\n",
              "          await google.colab.output.renderOutput(dataTable, element);\n",
              "          const docLink = document.createElement('div');\n",
              "          docLink.innerHTML = docLinkHtml;\n",
              "          element.appendChild(docLink);\n",
              "        }\n",
              "      </script>\n",
              "    </div>\n",
              "  </div>\n",
              "  "
            ]
          },
          "metadata": {},
          "execution_count": 11
        }
      ]
    },
    {
      "cell_type": "code",
      "source": [
        "tree = ET.parse(\"/content/source1.xml\")"
      ],
      "metadata": {
        "id": "VVv5nlRZQfSs"
      },
      "execution_count": 12,
      "outputs": []
    },
    {
      "cell_type": "code",
      "source": [
        "c = tree.getroot()"
      ],
      "metadata": {
        "id": "F4D48lrwQ52F"
      },
      "execution_count": 14,
      "outputs": []
    },
    {
      "cell_type": "code",
      "source": [
        "c"
      ],
      "metadata": {
        "colab": {
          "base_uri": "https://localhost:8080/"
        },
        "id": "WeSqZ0b3QfUq",
        "outputId": "fec07d35-2653-4065-9220-ed9d37e9885c"
      },
      "execution_count": 15,
      "outputs": [
        {
          "output_type": "execute_result",
          "data": {
            "text/plain": [
              "<Element 'data' at 0x7f83e73432c0>"
            ]
          },
          "metadata": {},
          "execution_count": 15
        }
      ]
    },
    {
      "cell_type": "code",
      "source": [
        "dataframe = pd.DataFrame(columns = [\"name\", \"height\",\"weight\"])\n",
        "for person in c:\n",
        "    name = person.find(\"name\").text\n",
        "    height = float(person.find(\"height\").text)\n",
        "    weight = float(person.find(\"weight\").text)\n",
        "    dataframe = dataframe.append({\"name\":name, \"height\":height, \"weight\":weight}, ignore_index = True)\n"
      ],
      "metadata": {
        "colab": {
          "base_uri": "https://localhost:8080/"
        },
        "id": "g-A36p_OQfYH",
        "outputId": "4254c3fd-6a1a-47ff-fcf4-86a07c9db909"
      },
      "execution_count": 16,
      "outputs": [
        {
          "output_type": "stream",
          "name": "stderr",
          "text": [
            "<ipython-input-16-fa5559c60bd4>:6: FutureWarning: The frame.append method is deprecated and will be removed from pandas in a future version. Use pandas.concat instead.\n",
            "  dataframe = dataframe.append({\"name\":name, \"height\":height, \"weight\":weight}, ignore_index = True)\n",
            "<ipython-input-16-fa5559c60bd4>:6: FutureWarning: The frame.append method is deprecated and will be removed from pandas in a future version. Use pandas.concat instead.\n",
            "  dataframe = dataframe.append({\"name\":name, \"height\":height, \"weight\":weight}, ignore_index = True)\n",
            "<ipython-input-16-fa5559c60bd4>:6: FutureWarning: The frame.append method is deprecated and will be removed from pandas in a future version. Use pandas.concat instead.\n",
            "  dataframe = dataframe.append({\"name\":name, \"height\":height, \"weight\":weight}, ignore_index = True)\n",
            "<ipython-input-16-fa5559c60bd4>:6: FutureWarning: The frame.append method is deprecated and will be removed from pandas in a future version. Use pandas.concat instead.\n",
            "  dataframe = dataframe.append({\"name\":name, \"height\":height, \"weight\":weight}, ignore_index = True)\n"
          ]
        }
      ]
    },
    {
      "cell_type": "code",
      "source": [
        "dataframe"
      ],
      "metadata": {
        "colab": {
          "base_uri": "https://localhost:8080/",
          "height": 175
        },
        "id": "1iRXcl1MQfhy",
        "outputId": "d80693f5-2ce9-4919-f279-9b9cc71051b2"
      },
      "execution_count": 17,
      "outputs": [
        {
          "output_type": "execute_result",
          "data": {
            "text/plain": [
              "    name  height  weight\n",
              "0  simon   67.90  112.37\n",
              "1  jacob   66.78  120.67\n",
              "2  cindy   66.49  127.45\n",
              "3   ivan   67.62  114.14"
            ],
            "text/html": [
              "\n",
              "  <div id=\"df-0f034b24-f8d2-4437-aff1-c8ed09e2a581\">\n",
              "    <div class=\"colab-df-container\">\n",
              "      <div>\n",
              "<style scoped>\n",
              "    .dataframe tbody tr th:only-of-type {\n",
              "        vertical-align: middle;\n",
              "    }\n",
              "\n",
              "    .dataframe tbody tr th {\n",
              "        vertical-align: top;\n",
              "    }\n",
              "\n",
              "    .dataframe thead th {\n",
              "        text-align: right;\n",
              "    }\n",
              "</style>\n",
              "<table border=\"1\" class=\"dataframe\">\n",
              "  <thead>\n",
              "    <tr style=\"text-align: right;\">\n",
              "      <th></th>\n",
              "      <th>name</th>\n",
              "      <th>height</th>\n",
              "      <th>weight</th>\n",
              "    </tr>\n",
              "  </thead>\n",
              "  <tbody>\n",
              "    <tr>\n",
              "      <th>0</th>\n",
              "      <td>simon</td>\n",
              "      <td>67.90</td>\n",
              "      <td>112.37</td>\n",
              "    </tr>\n",
              "    <tr>\n",
              "      <th>1</th>\n",
              "      <td>jacob</td>\n",
              "      <td>66.78</td>\n",
              "      <td>120.67</td>\n",
              "    </tr>\n",
              "    <tr>\n",
              "      <th>2</th>\n",
              "      <td>cindy</td>\n",
              "      <td>66.49</td>\n",
              "      <td>127.45</td>\n",
              "    </tr>\n",
              "    <tr>\n",
              "      <th>3</th>\n",
              "      <td>ivan</td>\n",
              "      <td>67.62</td>\n",
              "      <td>114.14</td>\n",
              "    </tr>\n",
              "  </tbody>\n",
              "</table>\n",
              "</div>\n",
              "      <button class=\"colab-df-convert\" onclick=\"convertToInteractive('df-0f034b24-f8d2-4437-aff1-c8ed09e2a581')\"\n",
              "              title=\"Convert this dataframe to an interactive table.\"\n",
              "              style=\"display:none;\">\n",
              "        \n",
              "  <svg xmlns=\"http://www.w3.org/2000/svg\" height=\"24px\"viewBox=\"0 0 24 24\"\n",
              "       width=\"24px\">\n",
              "    <path d=\"M0 0h24v24H0V0z\" fill=\"none\"/>\n",
              "    <path d=\"M18.56 5.44l.94 2.06.94-2.06 2.06-.94-2.06-.94-.94-2.06-.94 2.06-2.06.94zm-11 1L8.5 8.5l.94-2.06 2.06-.94-2.06-.94L8.5 2.5l-.94 2.06-2.06.94zm10 10l.94 2.06.94-2.06 2.06-.94-2.06-.94-.94-2.06-.94 2.06-2.06.94z\"/><path d=\"M17.41 7.96l-1.37-1.37c-.4-.4-.92-.59-1.43-.59-.52 0-1.04.2-1.43.59L10.3 9.45l-7.72 7.72c-.78.78-.78 2.05 0 2.83L4 21.41c.39.39.9.59 1.41.59.51 0 1.02-.2 1.41-.59l7.78-7.78 2.81-2.81c.8-.78.8-2.07 0-2.86zM5.41 20L4 18.59l7.72-7.72 1.47 1.35L5.41 20z\"/>\n",
              "  </svg>\n",
              "      </button>\n",
              "      \n",
              "  <style>\n",
              "    .colab-df-container {\n",
              "      display:flex;\n",
              "      flex-wrap:wrap;\n",
              "      gap: 12px;\n",
              "    }\n",
              "\n",
              "    .colab-df-convert {\n",
              "      background-color: #E8F0FE;\n",
              "      border: none;\n",
              "      border-radius: 50%;\n",
              "      cursor: pointer;\n",
              "      display: none;\n",
              "      fill: #1967D2;\n",
              "      height: 32px;\n",
              "      padding: 0 0 0 0;\n",
              "      width: 32px;\n",
              "    }\n",
              "\n",
              "    .colab-df-convert:hover {\n",
              "      background-color: #E2EBFA;\n",
              "      box-shadow: 0px 1px 2px rgba(60, 64, 67, 0.3), 0px 1px 3px 1px rgba(60, 64, 67, 0.15);\n",
              "      fill: #174EA6;\n",
              "    }\n",
              "\n",
              "    [theme=dark] .colab-df-convert {\n",
              "      background-color: #3B4455;\n",
              "      fill: #D2E3FC;\n",
              "    }\n",
              "\n",
              "    [theme=dark] .colab-df-convert:hover {\n",
              "      background-color: #434B5C;\n",
              "      box-shadow: 0px 1px 3px 1px rgba(0, 0, 0, 0.15);\n",
              "      filter: drop-shadow(0px 1px 2px rgba(0, 0, 0, 0.3));\n",
              "      fill: #FFFFFF;\n",
              "    }\n",
              "  </style>\n",
              "\n",
              "      <script>\n",
              "        const buttonEl =\n",
              "          document.querySelector('#df-0f034b24-f8d2-4437-aff1-c8ed09e2a581 button.colab-df-convert');\n",
              "        buttonEl.style.display =\n",
              "          google.colab.kernel.accessAllowed ? 'block' : 'none';\n",
              "\n",
              "        async function convertToInteractive(key) {\n",
              "          const element = document.querySelector('#df-0f034b24-f8d2-4437-aff1-c8ed09e2a581');\n",
              "          const dataTable =\n",
              "            await google.colab.kernel.invokeFunction('convertToInteractive',\n",
              "                                                     [key], {});\n",
              "          if (!dataTable) return;\n",
              "\n",
              "          const docLinkHtml = 'Like what you see? Visit the ' +\n",
              "            '<a target=\"_blank\" href=https://colab.research.google.com/notebooks/data_table.ipynb>data table notebook</a>'\n",
              "            + ' to learn more about interactive tables.';\n",
              "          element.innerHTML = '';\n",
              "          dataTable['output_type'] = 'display_data';\n",
              "          await google.colab.output.renderOutput(dataTable, element);\n",
              "          const docLink = document.createElement('div');\n",
              "          docLink.innerHTML = docLinkHtml;\n",
              "          element.appendChild(docLink);\n",
              "        }\n",
              "      </script>\n",
              "    </div>\n",
              "  </div>\n",
              "  "
            ]
          },
          "metadata": {},
          "execution_count": 17
        }
      ]
    },
    {
      "cell_type": "markdown",
      "source": [
        "SET PATHS\n"
      ],
      "metadata": {
        "id": "v2dtEbU_JoGz"
      }
    },
    {
      "cell_type": "code",
      "source": [
        "tmpfile    = \"temp.tmp\"               # file used to store all extracted data\n",
        "logfile    = \"logfile.txt\"            # all event logs will be stored in this file\n",
        "targetfile = \"transformed_data.csv\"   # file where transformed data is stored"
      ],
      "metadata": {
        "id": "xikK4j6AJjKZ"
      },
      "execution_count": 18,
      "outputs": []
    },
    {
      "cell_type": "markdown",
      "source": [
        "EXTRACT"
      ],
      "metadata": {
        "id": "MAvPhm1FJz7T"
      }
    },
    {
      "cell_type": "markdown",
      "source": [
        "CSV EXTRACT FUNCTION"
      ],
      "metadata": {
        "id": "X__x4GT9Jz9p"
      }
    },
    {
      "cell_type": "code",
      "source": [
        "def extract_from_csv(file_to_process):\n",
        "  dataframe = pd.read_csv(file_to_process)\n",
        "  return dataframe"
      ],
      "metadata": {
        "id": "hpgpDV-oJrEd"
      },
      "execution_count": 19,
      "outputs": []
    },
    {
      "cell_type": "markdown",
      "source": [
        "JSON EXTRACT FUNCTION"
      ],
      "metadata": {
        "id": "ttgLIXzjJz_1"
      }
    },
    {
      "cell_type": "code",
      "source": [
        "def extract_from_json(file_to_process):\n",
        "  dataframe = pd.read_json(file_to_process, lines = True)\n",
        "  return dataframe\n",
        "  "
      ],
      "metadata": {
        "id": "yNZFZrv1KPEC"
      },
      "execution_count": 20,
      "outputs": []
    },
    {
      "cell_type": "markdown",
      "source": [
        "XML Extract Function"
      ],
      "metadata": {
        "id": "arId2IHYJ0DS"
      }
    },
    {
      "cell_type": "markdown",
      "source": [
        "XML is a software- and hardware-independent tool for storing and transporting data."
      ],
      "metadata": {
        "id": "mDcedl8eLL1d"
      }
    },
    {
      "cell_type": "markdown",
      "source": [
        "XML stands for eXtensible Markup Language\n",
        "XML is a markup language much like HTML\n",
        "XML was designed to store and transport data\n",
        "XML was designed to be self-descriptive\n",
        "XML is a W3C Recommendation"
      ],
      "metadata": {
        "id": "Nj4Twg_XLMAH"
      }
    },
    {
      "cell_type": "code",
      "source": [
        "def extract_from_xml(file_to_process):\n",
        "  dataframe = pd.DataFrame(columns = [\"name\", \"height\",\"weight\"])\n",
        "  tree = ET.parse(file_to_process)\n",
        "  root = tree.getroot()\n",
        "  for person in root:\n",
        "    name = person.find(\"name\").text\n",
        "    height = float(person.find(\"height\").text)\n",
        "    weight = float(person.find(\"weight\").text)\n",
        "    dataframe = dataframe.append({\"name\":name, \"height\":height, \"weight\":weight}, ignore_index = True)\n",
        "  return dataframe  \n"
      ],
      "metadata": {
        "id": "5fJEcfVmLqd3"
      },
      "execution_count": 21,
      "outputs": []
    },
    {
      "cell_type": "markdown",
      "source": [
        "### Extract Function"
      ],
      "metadata": {
        "id": "bJgwZEjCO9uB"
      }
    },
    {
      "cell_type": "code",
      "source": [
        "def extract():\n",
        "  extracted_data = pd.DataFrame(columns = ['name', 'height', 'weight']) # create an empty data frame to hold extracted data \n",
        "  #process all csv files\n",
        "  for csvfile in glob.glob(\"*.csv\"):\n",
        "    extracted_data = extracted_data.append(extract_from_csv(csvfile), ignore_index = True)\n",
        "  #process all json files\n",
        "  for jsonfile in glob.glob(\"*.json\"):\n",
        "    extracted_data = extracted_data.append(extract_from_json(jsonfile), ignore_index = True)\n",
        "\n",
        "  #process all xml files\n",
        "  for xmlfile in glob.glob(\"*.xml\"):\n",
        "    extracted_data = extracted_data.append(extract_from_xml(xmlfile), ignore_index = True)\n",
        "\n",
        "  \n",
        "  return extracted_data\n",
        "\n",
        "  \n",
        "  \n",
        "\n",
        "\n",
        "\n"
      ],
      "metadata": {
        "id": "w2JAEgOqLqhP"
      },
      "execution_count": 22,
      "outputs": []
    },
    {
      "cell_type": "markdown",
      "source": [
        "***TRANSFORM***"
      ],
      "metadata": {
        "id": "kFr6ZhlHLMDg"
      }
    },
    {
      "cell_type": "markdown",
      "source": [
        "The transform function does the following tasks.\n",
        "\n",
        "1.  Convert height which is in inches to millimeter\n",
        "2.  Convert weight which is in pounds to kilograms"
      ],
      "metadata": {
        "id": "RmqY2H2hP4Lr"
      }
    },
    {
      "cell_type": "code",
      "source": [
        "def transform(data):\n",
        "  #convert height which is in inches to millimeter\n",
        "  #convert the data type of the column into float\n",
        "  #data.height = data.height.astype(float)\n",
        "  #convert inches to meters and round off to two decimal places (one inch is 0.0254 meters)\n",
        "  data['height'] = round(data.height *0.0254, 2)\n",
        "\n",
        "  #Convert weight which is in pounds to kilograms\n",
        "  #Convert the datatype of the column into float\n",
        "  #data.weight = data.weight.astype(float)\n",
        "  #Convert pounds to kilograms and round off to two decimals(one pound is 0.45359237 kilograms)\n",
        "\n",
        "  data['weight'] = round(data.weight * 0.45359237,2)\n",
        "  return data\n",
        "        \n"
      ],
      "metadata": {
        "id": "JYlQfMBLP3QB"
      },
      "execution_count": 24,
      "outputs": []
    },
    {
      "cell_type": "markdown",
      "source": [
        "**LOADING**"
      ],
      "metadata": {
        "id": "6QMBPXquRQpZ"
      }
    },
    {
      "cell_type": "code",
      "source": [
        "def load(targetfile, data_to_load):\n",
        "  data_to_load.to_csv(targetfile)"
      ],
      "metadata": {
        "id": "2d1ZC4oSQ07A"
      },
      "execution_count": 25,
      "outputs": []
    },
    {
      "cell_type": "markdown",
      "source": [
        "**LOGGING**"
      ],
      "metadata": {
        "id": "0Q7bm7_YRdB2"
      }
    },
    {
      "cell_type": "code",
      "source": [
        "def log(message):\n",
        "  timestamp_format = '%Y-%h-%d-%H:%M:%S' #Year-Monthname-Day-Hour-Minute-Second\n",
        "  now=datetime.now() #get current timestamp\n",
        "  timestamp = now.strftime(timestamp_format)\n",
        "  with open(\"logfile.txt\",\"a\") as f:\n",
        "    f.write(timestamp +','+ message+'\\n')\n",
        "    \n"
      ],
      "metadata": {
        "id": "m2YnU7U_Rb-Q"
      },
      "execution_count": 26,
      "outputs": []
    },
    {
      "cell_type": "markdown",
      "source": [
        "**RUNNING ETL PROCESS**"
      ],
      "metadata": {
        "id": "LBSANEN5S9ck"
      }
    },
    {
      "cell_type": "code",
      "source": [
        "log(\"ETL JOB STARTED\")"
      ],
      "metadata": {
        "id": "YSiHthtOSV3z"
      },
      "execution_count": 27,
      "outputs": []
    },
    {
      "cell_type": "code",
      "source": [
        "f = open(\"logfile.txt\", \"r\")\n",
        "print(f.read())"
      ],
      "metadata": {
        "colab": {
          "base_uri": "https://localhost:8080/"
        },
        "id": "CjQ4fqSSTIf4",
        "outputId": "cc3d14e3-d099-4db1-ff98-4cae2832c368"
      },
      "execution_count": 28,
      "outputs": [
        {
          "output_type": "stream",
          "name": "stdout",
          "text": [
            "2023-Apr-01-10:11:00,ETL JOB STARTED\n",
            "\n"
          ]
        }
      ]
    },
    {
      "cell_type": "code",
      "source": [
        "log(\"Extracted Phase Started\")\n",
        "extracted_data = extract()\n",
        "log(\"Extract Phase Ended\")"
      ],
      "metadata": {
        "colab": {
          "base_uri": "https://localhost:8080/"
        },
        "id": "wl13WN9JTXpg",
        "outputId": "e46ccf64-07b6-46d2-d65d-5a82da946237"
      },
      "execution_count": 29,
      "outputs": [
        {
          "output_type": "stream",
          "name": "stderr",
          "text": [
            "<ipython-input-22-248bc65cae0b>:5: FutureWarning: The frame.append method is deprecated and will be removed from pandas in a future version. Use pandas.concat instead.\n",
            "  extracted_data = extracted_data.append(extract_from_csv(csvfile), ignore_index = True)\n",
            "<ipython-input-22-248bc65cae0b>:5: FutureWarning: The frame.append method is deprecated and will be removed from pandas in a future version. Use pandas.concat instead.\n",
            "  extracted_data = extracted_data.append(extract_from_csv(csvfile), ignore_index = True)\n",
            "<ipython-input-22-248bc65cae0b>:5: FutureWarning: The frame.append method is deprecated and will be removed from pandas in a future version. Use pandas.concat instead.\n",
            "  extracted_data = extracted_data.append(extract_from_csv(csvfile), ignore_index = True)\n",
            "<ipython-input-22-248bc65cae0b>:8: FutureWarning: The frame.append method is deprecated and will be removed from pandas in a future version. Use pandas.concat instead.\n",
            "  extracted_data = extracted_data.append(extract_from_json(jsonfile), ignore_index = True)\n",
            "<ipython-input-22-248bc65cae0b>:8: FutureWarning: The frame.append method is deprecated and will be removed from pandas in a future version. Use pandas.concat instead.\n",
            "  extracted_data = extracted_data.append(extract_from_json(jsonfile), ignore_index = True)\n",
            "<ipython-input-22-248bc65cae0b>:8: FutureWarning: The frame.append method is deprecated and will be removed from pandas in a future version. Use pandas.concat instead.\n",
            "  extracted_data = extracted_data.append(extract_from_json(jsonfile), ignore_index = True)\n",
            "<ipython-input-21-a41bec51115c>:9: FutureWarning: The frame.append method is deprecated and will be removed from pandas in a future version. Use pandas.concat instead.\n",
            "  dataframe = dataframe.append({\"name\":name, \"height\":height, \"weight\":weight}, ignore_index = True)\n",
            "<ipython-input-21-a41bec51115c>:9: FutureWarning: The frame.append method is deprecated and will be removed from pandas in a future version. Use pandas.concat instead.\n",
            "  dataframe = dataframe.append({\"name\":name, \"height\":height, \"weight\":weight}, ignore_index = True)\n",
            "<ipython-input-21-a41bec51115c>:9: FutureWarning: The frame.append method is deprecated and will be removed from pandas in a future version. Use pandas.concat instead.\n",
            "  dataframe = dataframe.append({\"name\":name, \"height\":height, \"weight\":weight}, ignore_index = True)\n",
            "<ipython-input-21-a41bec51115c>:9: FutureWarning: The frame.append method is deprecated and will be removed from pandas in a future version. Use pandas.concat instead.\n",
            "  dataframe = dataframe.append({\"name\":name, \"height\":height, \"weight\":weight}, ignore_index = True)\n",
            "<ipython-input-22-248bc65cae0b>:12: FutureWarning: The frame.append method is deprecated and will be removed from pandas in a future version. Use pandas.concat instead.\n",
            "  extracted_data = extracted_data.append(extract_from_xml(xmlfile), ignore_index = True)\n",
            "<ipython-input-21-a41bec51115c>:9: FutureWarning: The frame.append method is deprecated and will be removed from pandas in a future version. Use pandas.concat instead.\n",
            "  dataframe = dataframe.append({\"name\":name, \"height\":height, \"weight\":weight}, ignore_index = True)\n",
            "<ipython-input-21-a41bec51115c>:9: FutureWarning: The frame.append method is deprecated and will be removed from pandas in a future version. Use pandas.concat instead.\n",
            "  dataframe = dataframe.append({\"name\":name, \"height\":height, \"weight\":weight}, ignore_index = True)\n",
            "<ipython-input-21-a41bec51115c>:9: FutureWarning: The frame.append method is deprecated and will be removed from pandas in a future version. Use pandas.concat instead.\n",
            "  dataframe = dataframe.append({\"name\":name, \"height\":height, \"weight\":weight}, ignore_index = True)\n",
            "<ipython-input-21-a41bec51115c>:9: FutureWarning: The frame.append method is deprecated and will be removed from pandas in a future version. Use pandas.concat instead.\n",
            "  dataframe = dataframe.append({\"name\":name, \"height\":height, \"weight\":weight}, ignore_index = True)\n",
            "<ipython-input-22-248bc65cae0b>:12: FutureWarning: The frame.append method is deprecated and will be removed from pandas in a future version. Use pandas.concat instead.\n",
            "  extracted_data = extracted_data.append(extract_from_xml(xmlfile), ignore_index = True)\n",
            "<ipython-input-21-a41bec51115c>:9: FutureWarning: The frame.append method is deprecated and will be removed from pandas in a future version. Use pandas.concat instead.\n",
            "  dataframe = dataframe.append({\"name\":name, \"height\":height, \"weight\":weight}, ignore_index = True)\n",
            "<ipython-input-21-a41bec51115c>:9: FutureWarning: The frame.append method is deprecated and will be removed from pandas in a future version. Use pandas.concat instead.\n",
            "  dataframe = dataframe.append({\"name\":name, \"height\":height, \"weight\":weight}, ignore_index = True)\n",
            "<ipython-input-21-a41bec51115c>:9: FutureWarning: The frame.append method is deprecated and will be removed from pandas in a future version. Use pandas.concat instead.\n",
            "  dataframe = dataframe.append({\"name\":name, \"height\":height, \"weight\":weight}, ignore_index = True)\n",
            "<ipython-input-21-a41bec51115c>:9: FutureWarning: The frame.append method is deprecated and will be removed from pandas in a future version. Use pandas.concat instead.\n",
            "  dataframe = dataframe.append({\"name\":name, \"height\":height, \"weight\":weight}, ignore_index = True)\n",
            "<ipython-input-22-248bc65cae0b>:12: FutureWarning: The frame.append method is deprecated and will be removed from pandas in a future version. Use pandas.concat instead.\n",
            "  extracted_data = extracted_data.append(extract_from_xml(xmlfile), ignore_index = True)\n"
          ]
        }
      ]
    },
    {
      "cell_type": "code",
      "source": [
        "f = open(\"logfile.txt\", \"r\")\n",
        "print(f.read())"
      ],
      "metadata": {
        "colab": {
          "base_uri": "https://localhost:8080/"
        },
        "id": "zKIuW3lpUV1I",
        "outputId": "aaec4855-d5f3-4e56-a156-9fd0664cf818"
      },
      "execution_count": 30,
      "outputs": [
        {
          "output_type": "stream",
          "name": "stdout",
          "text": [
            "2023-Apr-01-10:11:00,ETL JOB STARTED\n",
            "2023-Apr-01-10:16:17,Extracted Phase Started\n",
            "2023-Apr-01-10:16:17,Extract Phase Ended\n",
            "\n"
          ]
        }
      ]
    },
    {
      "cell_type": "code",
      "source": [
        "extracted_data"
      ],
      "metadata": {
        "colab": {
          "base_uri": "https://localhost:8080/",
          "height": 1000
        },
        "id": "WZfMzj0bUdmn",
        "outputId": "ac8933c5-3127-443e-dd73-25594771d6a7"
      },
      "execution_count": 31,
      "outputs": [
        {
          "output_type": "execute_result",
          "data": {
            "text/plain": [
              "     name  height  weight\n",
              "0    alex   65.78  112.99\n",
              "1    ajay   71.52  136.49\n",
              "2   alice   69.40  153.03\n",
              "3    ravi   68.22  142.34\n",
              "4     joe   67.79  144.30\n",
              "5    alex   65.78  112.99\n",
              "6    ajay   71.52  136.49\n",
              "7   alice   69.40  153.03\n",
              "8    ravi   68.22  142.34\n",
              "9     joe   67.79  144.30\n",
              "10   alex   65.78  112.99\n",
              "11   ajay   71.52  136.49\n",
              "12  alice   69.40  153.03\n",
              "13   ravi   68.22  142.34\n",
              "14    joe   67.79  144.30\n",
              "15   jack   68.70  123.30\n",
              "16    tom   69.80  141.49\n",
              "17  tracy   70.01  136.46\n",
              "18   john   67.90  112.37\n",
              "19   jack   68.70  123.30\n",
              "20    tom   69.80  141.49\n",
              "21  tracy   70.01  136.46\n",
              "22   john   67.90  112.37\n",
              "23   jack   68.70  123.30\n",
              "24    tom   69.80  141.49\n",
              "25  tracy   70.01  136.46\n",
              "26   john   67.90  112.37\n",
              "27  simon   67.90  112.37\n",
              "28  jacob   66.78  120.67\n",
              "29  cindy   66.49  127.45\n",
              "30   ivan   67.62  114.14\n",
              "31  simon   67.90  112.37\n",
              "32  jacob   66.78  120.67\n",
              "33  cindy   66.49  127.45\n",
              "34   ivan   67.62  114.14\n",
              "35  simon   67.90  112.37\n",
              "36  jacob   66.78  120.67\n",
              "37  cindy   66.49  127.45\n",
              "38   ivan   67.62  114.14"
            ],
            "text/html": [
              "\n",
              "  <div id=\"df-086b8786-117a-4486-80c9-8068f051c018\">\n",
              "    <div class=\"colab-df-container\">\n",
              "      <div>\n",
              "<style scoped>\n",
              "    .dataframe tbody tr th:only-of-type {\n",
              "        vertical-align: middle;\n",
              "    }\n",
              "\n",
              "    .dataframe tbody tr th {\n",
              "        vertical-align: top;\n",
              "    }\n",
              "\n",
              "    .dataframe thead th {\n",
              "        text-align: right;\n",
              "    }\n",
              "</style>\n",
              "<table border=\"1\" class=\"dataframe\">\n",
              "  <thead>\n",
              "    <tr style=\"text-align: right;\">\n",
              "      <th></th>\n",
              "      <th>name</th>\n",
              "      <th>height</th>\n",
              "      <th>weight</th>\n",
              "    </tr>\n",
              "  </thead>\n",
              "  <tbody>\n",
              "    <tr>\n",
              "      <th>0</th>\n",
              "      <td>alex</td>\n",
              "      <td>65.78</td>\n",
              "      <td>112.99</td>\n",
              "    </tr>\n",
              "    <tr>\n",
              "      <th>1</th>\n",
              "      <td>ajay</td>\n",
              "      <td>71.52</td>\n",
              "      <td>136.49</td>\n",
              "    </tr>\n",
              "    <tr>\n",
              "      <th>2</th>\n",
              "      <td>alice</td>\n",
              "      <td>69.40</td>\n",
              "      <td>153.03</td>\n",
              "    </tr>\n",
              "    <tr>\n",
              "      <th>3</th>\n",
              "      <td>ravi</td>\n",
              "      <td>68.22</td>\n",
              "      <td>142.34</td>\n",
              "    </tr>\n",
              "    <tr>\n",
              "      <th>4</th>\n",
              "      <td>joe</td>\n",
              "      <td>67.79</td>\n",
              "      <td>144.30</td>\n",
              "    </tr>\n",
              "    <tr>\n",
              "      <th>5</th>\n",
              "      <td>alex</td>\n",
              "      <td>65.78</td>\n",
              "      <td>112.99</td>\n",
              "    </tr>\n",
              "    <tr>\n",
              "      <th>6</th>\n",
              "      <td>ajay</td>\n",
              "      <td>71.52</td>\n",
              "      <td>136.49</td>\n",
              "    </tr>\n",
              "    <tr>\n",
              "      <th>7</th>\n",
              "      <td>alice</td>\n",
              "      <td>69.40</td>\n",
              "      <td>153.03</td>\n",
              "    </tr>\n",
              "    <tr>\n",
              "      <th>8</th>\n",
              "      <td>ravi</td>\n",
              "      <td>68.22</td>\n",
              "      <td>142.34</td>\n",
              "    </tr>\n",
              "    <tr>\n",
              "      <th>9</th>\n",
              "      <td>joe</td>\n",
              "      <td>67.79</td>\n",
              "      <td>144.30</td>\n",
              "    </tr>\n",
              "    <tr>\n",
              "      <th>10</th>\n",
              "      <td>alex</td>\n",
              "      <td>65.78</td>\n",
              "      <td>112.99</td>\n",
              "    </tr>\n",
              "    <tr>\n",
              "      <th>11</th>\n",
              "      <td>ajay</td>\n",
              "      <td>71.52</td>\n",
              "      <td>136.49</td>\n",
              "    </tr>\n",
              "    <tr>\n",
              "      <th>12</th>\n",
              "      <td>alice</td>\n",
              "      <td>69.40</td>\n",
              "      <td>153.03</td>\n",
              "    </tr>\n",
              "    <tr>\n",
              "      <th>13</th>\n",
              "      <td>ravi</td>\n",
              "      <td>68.22</td>\n",
              "      <td>142.34</td>\n",
              "    </tr>\n",
              "    <tr>\n",
              "      <th>14</th>\n",
              "      <td>joe</td>\n",
              "      <td>67.79</td>\n",
              "      <td>144.30</td>\n",
              "    </tr>\n",
              "    <tr>\n",
              "      <th>15</th>\n",
              "      <td>jack</td>\n",
              "      <td>68.70</td>\n",
              "      <td>123.30</td>\n",
              "    </tr>\n",
              "    <tr>\n",
              "      <th>16</th>\n",
              "      <td>tom</td>\n",
              "      <td>69.80</td>\n",
              "      <td>141.49</td>\n",
              "    </tr>\n",
              "    <tr>\n",
              "      <th>17</th>\n",
              "      <td>tracy</td>\n",
              "      <td>70.01</td>\n",
              "      <td>136.46</td>\n",
              "    </tr>\n",
              "    <tr>\n",
              "      <th>18</th>\n",
              "      <td>john</td>\n",
              "      <td>67.90</td>\n",
              "      <td>112.37</td>\n",
              "    </tr>\n",
              "    <tr>\n",
              "      <th>19</th>\n",
              "      <td>jack</td>\n",
              "      <td>68.70</td>\n",
              "      <td>123.30</td>\n",
              "    </tr>\n",
              "    <tr>\n",
              "      <th>20</th>\n",
              "      <td>tom</td>\n",
              "      <td>69.80</td>\n",
              "      <td>141.49</td>\n",
              "    </tr>\n",
              "    <tr>\n",
              "      <th>21</th>\n",
              "      <td>tracy</td>\n",
              "      <td>70.01</td>\n",
              "      <td>136.46</td>\n",
              "    </tr>\n",
              "    <tr>\n",
              "      <th>22</th>\n",
              "      <td>john</td>\n",
              "      <td>67.90</td>\n",
              "      <td>112.37</td>\n",
              "    </tr>\n",
              "    <tr>\n",
              "      <th>23</th>\n",
              "      <td>jack</td>\n",
              "      <td>68.70</td>\n",
              "      <td>123.30</td>\n",
              "    </tr>\n",
              "    <tr>\n",
              "      <th>24</th>\n",
              "      <td>tom</td>\n",
              "      <td>69.80</td>\n",
              "      <td>141.49</td>\n",
              "    </tr>\n",
              "    <tr>\n",
              "      <th>25</th>\n",
              "      <td>tracy</td>\n",
              "      <td>70.01</td>\n",
              "      <td>136.46</td>\n",
              "    </tr>\n",
              "    <tr>\n",
              "      <th>26</th>\n",
              "      <td>john</td>\n",
              "      <td>67.90</td>\n",
              "      <td>112.37</td>\n",
              "    </tr>\n",
              "    <tr>\n",
              "      <th>27</th>\n",
              "      <td>simon</td>\n",
              "      <td>67.90</td>\n",
              "      <td>112.37</td>\n",
              "    </tr>\n",
              "    <tr>\n",
              "      <th>28</th>\n",
              "      <td>jacob</td>\n",
              "      <td>66.78</td>\n",
              "      <td>120.67</td>\n",
              "    </tr>\n",
              "    <tr>\n",
              "      <th>29</th>\n",
              "      <td>cindy</td>\n",
              "      <td>66.49</td>\n",
              "      <td>127.45</td>\n",
              "    </tr>\n",
              "    <tr>\n",
              "      <th>30</th>\n",
              "      <td>ivan</td>\n",
              "      <td>67.62</td>\n",
              "      <td>114.14</td>\n",
              "    </tr>\n",
              "    <tr>\n",
              "      <th>31</th>\n",
              "      <td>simon</td>\n",
              "      <td>67.90</td>\n",
              "      <td>112.37</td>\n",
              "    </tr>\n",
              "    <tr>\n",
              "      <th>32</th>\n",
              "      <td>jacob</td>\n",
              "      <td>66.78</td>\n",
              "      <td>120.67</td>\n",
              "    </tr>\n",
              "    <tr>\n",
              "      <th>33</th>\n",
              "      <td>cindy</td>\n",
              "      <td>66.49</td>\n",
              "      <td>127.45</td>\n",
              "    </tr>\n",
              "    <tr>\n",
              "      <th>34</th>\n",
              "      <td>ivan</td>\n",
              "      <td>67.62</td>\n",
              "      <td>114.14</td>\n",
              "    </tr>\n",
              "    <tr>\n",
              "      <th>35</th>\n",
              "      <td>simon</td>\n",
              "      <td>67.90</td>\n",
              "      <td>112.37</td>\n",
              "    </tr>\n",
              "    <tr>\n",
              "      <th>36</th>\n",
              "      <td>jacob</td>\n",
              "      <td>66.78</td>\n",
              "      <td>120.67</td>\n",
              "    </tr>\n",
              "    <tr>\n",
              "      <th>37</th>\n",
              "      <td>cindy</td>\n",
              "      <td>66.49</td>\n",
              "      <td>127.45</td>\n",
              "    </tr>\n",
              "    <tr>\n",
              "      <th>38</th>\n",
              "      <td>ivan</td>\n",
              "      <td>67.62</td>\n",
              "      <td>114.14</td>\n",
              "    </tr>\n",
              "  </tbody>\n",
              "</table>\n",
              "</div>\n",
              "      <button class=\"colab-df-convert\" onclick=\"convertToInteractive('df-086b8786-117a-4486-80c9-8068f051c018')\"\n",
              "              title=\"Convert this dataframe to an interactive table.\"\n",
              "              style=\"display:none;\">\n",
              "        \n",
              "  <svg xmlns=\"http://www.w3.org/2000/svg\" height=\"24px\"viewBox=\"0 0 24 24\"\n",
              "       width=\"24px\">\n",
              "    <path d=\"M0 0h24v24H0V0z\" fill=\"none\"/>\n",
              "    <path d=\"M18.56 5.44l.94 2.06.94-2.06 2.06-.94-2.06-.94-.94-2.06-.94 2.06-2.06.94zm-11 1L8.5 8.5l.94-2.06 2.06-.94-2.06-.94L8.5 2.5l-.94 2.06-2.06.94zm10 10l.94 2.06.94-2.06 2.06-.94-2.06-.94-.94-2.06-.94 2.06-2.06.94z\"/><path d=\"M17.41 7.96l-1.37-1.37c-.4-.4-.92-.59-1.43-.59-.52 0-1.04.2-1.43.59L10.3 9.45l-7.72 7.72c-.78.78-.78 2.05 0 2.83L4 21.41c.39.39.9.59 1.41.59.51 0 1.02-.2 1.41-.59l7.78-7.78 2.81-2.81c.8-.78.8-2.07 0-2.86zM5.41 20L4 18.59l7.72-7.72 1.47 1.35L5.41 20z\"/>\n",
              "  </svg>\n",
              "      </button>\n",
              "      \n",
              "  <style>\n",
              "    .colab-df-container {\n",
              "      display:flex;\n",
              "      flex-wrap:wrap;\n",
              "      gap: 12px;\n",
              "    }\n",
              "\n",
              "    .colab-df-convert {\n",
              "      background-color: #E8F0FE;\n",
              "      border: none;\n",
              "      border-radius: 50%;\n",
              "      cursor: pointer;\n",
              "      display: none;\n",
              "      fill: #1967D2;\n",
              "      height: 32px;\n",
              "      padding: 0 0 0 0;\n",
              "      width: 32px;\n",
              "    }\n",
              "\n",
              "    .colab-df-convert:hover {\n",
              "      background-color: #E2EBFA;\n",
              "      box-shadow: 0px 1px 2px rgba(60, 64, 67, 0.3), 0px 1px 3px 1px rgba(60, 64, 67, 0.15);\n",
              "      fill: #174EA6;\n",
              "    }\n",
              "\n",
              "    [theme=dark] .colab-df-convert {\n",
              "      background-color: #3B4455;\n",
              "      fill: #D2E3FC;\n",
              "    }\n",
              "\n",
              "    [theme=dark] .colab-df-convert:hover {\n",
              "      background-color: #434B5C;\n",
              "      box-shadow: 0px 1px 3px 1px rgba(0, 0, 0, 0.15);\n",
              "      filter: drop-shadow(0px 1px 2px rgba(0, 0, 0, 0.3));\n",
              "      fill: #FFFFFF;\n",
              "    }\n",
              "  </style>\n",
              "\n",
              "      <script>\n",
              "        const buttonEl =\n",
              "          document.querySelector('#df-086b8786-117a-4486-80c9-8068f051c018 button.colab-df-convert');\n",
              "        buttonEl.style.display =\n",
              "          google.colab.kernel.accessAllowed ? 'block' : 'none';\n",
              "\n",
              "        async function convertToInteractive(key) {\n",
              "          const element = document.querySelector('#df-086b8786-117a-4486-80c9-8068f051c018');\n",
              "          const dataTable =\n",
              "            await google.colab.kernel.invokeFunction('convertToInteractive',\n",
              "                                                     [key], {});\n",
              "          if (!dataTable) return;\n",
              "\n",
              "          const docLinkHtml = 'Like what you see? Visit the ' +\n",
              "            '<a target=\"_blank\" href=https://colab.research.google.com/notebooks/data_table.ipynb>data table notebook</a>'\n",
              "            + ' to learn more about interactive tables.';\n",
              "          element.innerHTML = '';\n",
              "          dataTable['output_type'] = 'display_data';\n",
              "          await google.colab.output.renderOutput(dataTable, element);\n",
              "          const docLink = document.createElement('div');\n",
              "          docLink.innerHTML = docLinkHtml;\n",
              "          element.appendChild(docLink);\n",
              "        }\n",
              "      </script>\n",
              "    </div>\n",
              "  </div>\n",
              "  "
            ]
          },
          "metadata": {},
          "execution_count": 31
        }
      ]
    },
    {
      "cell_type": "code",
      "source": [
        "log(\"Transform Phase Started\")\n",
        "transformed_data = transform(extracted_data)\n",
        "log(\"Transform Phase Ended\")"
      ],
      "metadata": {
        "id": "25dX91l0VG4W"
      },
      "execution_count": 33,
      "outputs": []
    },
    {
      "cell_type": "code",
      "source": [
        "f = open(\"logfile.txt\", \"r\")\n",
        "print(f.read())"
      ],
      "metadata": {
        "colab": {
          "base_uri": "https://localhost:8080/"
        },
        "id": "rzU6fGpbVb1A",
        "outputId": "a88de488-bfcb-4804-b6c8-869307a76390"
      },
      "execution_count": 34,
      "outputs": [
        {
          "output_type": "stream",
          "name": "stdout",
          "text": [
            "2023-Apr-01-10:11:00,ETL JOB STARTED\n",
            "2023-Apr-01-10:16:17,Extracted Phase Started\n",
            "2023-Apr-01-10:16:17,Extract Phase Ended\n",
            "2023-Apr-01-10:19:02,Load Phase Started\n",
            "2023-Apr-01-10:20:59,Transform Phase Started\n",
            "2023-Apr-01-10:20:59,Transform Phase Ended\n",
            "\n"
          ]
        }
      ]
    },
    {
      "cell_type": "code",
      "source": [
        "transformed_data"
      ],
      "metadata": {
        "colab": {
          "base_uri": "https://localhost:8080/",
          "height": 1000
        },
        "id": "rPi8Y-rKVgor",
        "outputId": "098edac7-8c97-4754-e55c-292ae1869e07"
      },
      "execution_count": 35,
      "outputs": [
        {
          "output_type": "execute_result",
          "data": {
            "text/plain": [
              "     name  height  weight\n",
              "0    alex    1.67   51.25\n",
              "1    ajay    1.82   61.91\n",
              "2   alice    1.76   69.41\n",
              "3    ravi    1.73   64.56\n",
              "4     joe    1.72   65.45\n",
              "5    alex    1.67   51.25\n",
              "6    ajay    1.82   61.91\n",
              "7   alice    1.76   69.41\n",
              "8    ravi    1.73   64.56\n",
              "9     joe    1.72   65.45\n",
              "10   alex    1.67   51.25\n",
              "11   ajay    1.82   61.91\n",
              "12  alice    1.76   69.41\n",
              "13   ravi    1.73   64.56\n",
              "14    joe    1.72   65.45\n",
              "15   jack    1.74   55.93\n",
              "16    tom    1.77   64.18\n",
              "17  tracy    1.78   61.90\n",
              "18   john    1.72   50.97\n",
              "19   jack    1.74   55.93\n",
              "20    tom    1.77   64.18\n",
              "21  tracy    1.78   61.90\n",
              "22   john    1.72   50.97\n",
              "23   jack    1.74   55.93\n",
              "24    tom    1.77   64.18\n",
              "25  tracy    1.78   61.90\n",
              "26   john    1.72   50.97\n",
              "27  simon    1.72   50.97\n",
              "28  jacob    1.70   54.73\n",
              "29  cindy    1.69   57.81\n",
              "30   ivan    1.72   51.77\n",
              "31  simon    1.72   50.97\n",
              "32  jacob    1.70   54.73\n",
              "33  cindy    1.69   57.81\n",
              "34   ivan    1.72   51.77\n",
              "35  simon    1.72   50.97\n",
              "36  jacob    1.70   54.73\n",
              "37  cindy    1.69   57.81\n",
              "38   ivan    1.72   51.77"
            ],
            "text/html": [
              "\n",
              "  <div id=\"df-c54d586f-6ee2-4577-a827-59816055e001\">\n",
              "    <div class=\"colab-df-container\">\n",
              "      <div>\n",
              "<style scoped>\n",
              "    .dataframe tbody tr th:only-of-type {\n",
              "        vertical-align: middle;\n",
              "    }\n",
              "\n",
              "    .dataframe tbody tr th {\n",
              "        vertical-align: top;\n",
              "    }\n",
              "\n",
              "    .dataframe thead th {\n",
              "        text-align: right;\n",
              "    }\n",
              "</style>\n",
              "<table border=\"1\" class=\"dataframe\">\n",
              "  <thead>\n",
              "    <tr style=\"text-align: right;\">\n",
              "      <th></th>\n",
              "      <th>name</th>\n",
              "      <th>height</th>\n",
              "      <th>weight</th>\n",
              "    </tr>\n",
              "  </thead>\n",
              "  <tbody>\n",
              "    <tr>\n",
              "      <th>0</th>\n",
              "      <td>alex</td>\n",
              "      <td>1.67</td>\n",
              "      <td>51.25</td>\n",
              "    </tr>\n",
              "    <tr>\n",
              "      <th>1</th>\n",
              "      <td>ajay</td>\n",
              "      <td>1.82</td>\n",
              "      <td>61.91</td>\n",
              "    </tr>\n",
              "    <tr>\n",
              "      <th>2</th>\n",
              "      <td>alice</td>\n",
              "      <td>1.76</td>\n",
              "      <td>69.41</td>\n",
              "    </tr>\n",
              "    <tr>\n",
              "      <th>3</th>\n",
              "      <td>ravi</td>\n",
              "      <td>1.73</td>\n",
              "      <td>64.56</td>\n",
              "    </tr>\n",
              "    <tr>\n",
              "      <th>4</th>\n",
              "      <td>joe</td>\n",
              "      <td>1.72</td>\n",
              "      <td>65.45</td>\n",
              "    </tr>\n",
              "    <tr>\n",
              "      <th>5</th>\n",
              "      <td>alex</td>\n",
              "      <td>1.67</td>\n",
              "      <td>51.25</td>\n",
              "    </tr>\n",
              "    <tr>\n",
              "      <th>6</th>\n",
              "      <td>ajay</td>\n",
              "      <td>1.82</td>\n",
              "      <td>61.91</td>\n",
              "    </tr>\n",
              "    <tr>\n",
              "      <th>7</th>\n",
              "      <td>alice</td>\n",
              "      <td>1.76</td>\n",
              "      <td>69.41</td>\n",
              "    </tr>\n",
              "    <tr>\n",
              "      <th>8</th>\n",
              "      <td>ravi</td>\n",
              "      <td>1.73</td>\n",
              "      <td>64.56</td>\n",
              "    </tr>\n",
              "    <tr>\n",
              "      <th>9</th>\n",
              "      <td>joe</td>\n",
              "      <td>1.72</td>\n",
              "      <td>65.45</td>\n",
              "    </tr>\n",
              "    <tr>\n",
              "      <th>10</th>\n",
              "      <td>alex</td>\n",
              "      <td>1.67</td>\n",
              "      <td>51.25</td>\n",
              "    </tr>\n",
              "    <tr>\n",
              "      <th>11</th>\n",
              "      <td>ajay</td>\n",
              "      <td>1.82</td>\n",
              "      <td>61.91</td>\n",
              "    </tr>\n",
              "    <tr>\n",
              "      <th>12</th>\n",
              "      <td>alice</td>\n",
              "      <td>1.76</td>\n",
              "      <td>69.41</td>\n",
              "    </tr>\n",
              "    <tr>\n",
              "      <th>13</th>\n",
              "      <td>ravi</td>\n",
              "      <td>1.73</td>\n",
              "      <td>64.56</td>\n",
              "    </tr>\n",
              "    <tr>\n",
              "      <th>14</th>\n",
              "      <td>joe</td>\n",
              "      <td>1.72</td>\n",
              "      <td>65.45</td>\n",
              "    </tr>\n",
              "    <tr>\n",
              "      <th>15</th>\n",
              "      <td>jack</td>\n",
              "      <td>1.74</td>\n",
              "      <td>55.93</td>\n",
              "    </tr>\n",
              "    <tr>\n",
              "      <th>16</th>\n",
              "      <td>tom</td>\n",
              "      <td>1.77</td>\n",
              "      <td>64.18</td>\n",
              "    </tr>\n",
              "    <tr>\n",
              "      <th>17</th>\n",
              "      <td>tracy</td>\n",
              "      <td>1.78</td>\n",
              "      <td>61.90</td>\n",
              "    </tr>\n",
              "    <tr>\n",
              "      <th>18</th>\n",
              "      <td>john</td>\n",
              "      <td>1.72</td>\n",
              "      <td>50.97</td>\n",
              "    </tr>\n",
              "    <tr>\n",
              "      <th>19</th>\n",
              "      <td>jack</td>\n",
              "      <td>1.74</td>\n",
              "      <td>55.93</td>\n",
              "    </tr>\n",
              "    <tr>\n",
              "      <th>20</th>\n",
              "      <td>tom</td>\n",
              "      <td>1.77</td>\n",
              "      <td>64.18</td>\n",
              "    </tr>\n",
              "    <tr>\n",
              "      <th>21</th>\n",
              "      <td>tracy</td>\n",
              "      <td>1.78</td>\n",
              "      <td>61.90</td>\n",
              "    </tr>\n",
              "    <tr>\n",
              "      <th>22</th>\n",
              "      <td>john</td>\n",
              "      <td>1.72</td>\n",
              "      <td>50.97</td>\n",
              "    </tr>\n",
              "    <tr>\n",
              "      <th>23</th>\n",
              "      <td>jack</td>\n",
              "      <td>1.74</td>\n",
              "      <td>55.93</td>\n",
              "    </tr>\n",
              "    <tr>\n",
              "      <th>24</th>\n",
              "      <td>tom</td>\n",
              "      <td>1.77</td>\n",
              "      <td>64.18</td>\n",
              "    </tr>\n",
              "    <tr>\n",
              "      <th>25</th>\n",
              "      <td>tracy</td>\n",
              "      <td>1.78</td>\n",
              "      <td>61.90</td>\n",
              "    </tr>\n",
              "    <tr>\n",
              "      <th>26</th>\n",
              "      <td>john</td>\n",
              "      <td>1.72</td>\n",
              "      <td>50.97</td>\n",
              "    </tr>\n",
              "    <tr>\n",
              "      <th>27</th>\n",
              "      <td>simon</td>\n",
              "      <td>1.72</td>\n",
              "      <td>50.97</td>\n",
              "    </tr>\n",
              "    <tr>\n",
              "      <th>28</th>\n",
              "      <td>jacob</td>\n",
              "      <td>1.70</td>\n",
              "      <td>54.73</td>\n",
              "    </tr>\n",
              "    <tr>\n",
              "      <th>29</th>\n",
              "      <td>cindy</td>\n",
              "      <td>1.69</td>\n",
              "      <td>57.81</td>\n",
              "    </tr>\n",
              "    <tr>\n",
              "      <th>30</th>\n",
              "      <td>ivan</td>\n",
              "      <td>1.72</td>\n",
              "      <td>51.77</td>\n",
              "    </tr>\n",
              "    <tr>\n",
              "      <th>31</th>\n",
              "      <td>simon</td>\n",
              "      <td>1.72</td>\n",
              "      <td>50.97</td>\n",
              "    </tr>\n",
              "    <tr>\n",
              "      <th>32</th>\n",
              "      <td>jacob</td>\n",
              "      <td>1.70</td>\n",
              "      <td>54.73</td>\n",
              "    </tr>\n",
              "    <tr>\n",
              "      <th>33</th>\n",
              "      <td>cindy</td>\n",
              "      <td>1.69</td>\n",
              "      <td>57.81</td>\n",
              "    </tr>\n",
              "    <tr>\n",
              "      <th>34</th>\n",
              "      <td>ivan</td>\n",
              "      <td>1.72</td>\n",
              "      <td>51.77</td>\n",
              "    </tr>\n",
              "    <tr>\n",
              "      <th>35</th>\n",
              "      <td>simon</td>\n",
              "      <td>1.72</td>\n",
              "      <td>50.97</td>\n",
              "    </tr>\n",
              "    <tr>\n",
              "      <th>36</th>\n",
              "      <td>jacob</td>\n",
              "      <td>1.70</td>\n",
              "      <td>54.73</td>\n",
              "    </tr>\n",
              "    <tr>\n",
              "      <th>37</th>\n",
              "      <td>cindy</td>\n",
              "      <td>1.69</td>\n",
              "      <td>57.81</td>\n",
              "    </tr>\n",
              "    <tr>\n",
              "      <th>38</th>\n",
              "      <td>ivan</td>\n",
              "      <td>1.72</td>\n",
              "      <td>51.77</td>\n",
              "    </tr>\n",
              "  </tbody>\n",
              "</table>\n",
              "</div>\n",
              "      <button class=\"colab-df-convert\" onclick=\"convertToInteractive('df-c54d586f-6ee2-4577-a827-59816055e001')\"\n",
              "              title=\"Convert this dataframe to an interactive table.\"\n",
              "              style=\"display:none;\">\n",
              "        \n",
              "  <svg xmlns=\"http://www.w3.org/2000/svg\" height=\"24px\"viewBox=\"0 0 24 24\"\n",
              "       width=\"24px\">\n",
              "    <path d=\"M0 0h24v24H0V0z\" fill=\"none\"/>\n",
              "    <path d=\"M18.56 5.44l.94 2.06.94-2.06 2.06-.94-2.06-.94-.94-2.06-.94 2.06-2.06.94zm-11 1L8.5 8.5l.94-2.06 2.06-.94-2.06-.94L8.5 2.5l-.94 2.06-2.06.94zm10 10l.94 2.06.94-2.06 2.06-.94-2.06-.94-.94-2.06-.94 2.06-2.06.94z\"/><path d=\"M17.41 7.96l-1.37-1.37c-.4-.4-.92-.59-1.43-.59-.52 0-1.04.2-1.43.59L10.3 9.45l-7.72 7.72c-.78.78-.78 2.05 0 2.83L4 21.41c.39.39.9.59 1.41.59.51 0 1.02-.2 1.41-.59l7.78-7.78 2.81-2.81c.8-.78.8-2.07 0-2.86zM5.41 20L4 18.59l7.72-7.72 1.47 1.35L5.41 20z\"/>\n",
              "  </svg>\n",
              "      </button>\n",
              "      \n",
              "  <style>\n",
              "    .colab-df-container {\n",
              "      display:flex;\n",
              "      flex-wrap:wrap;\n",
              "      gap: 12px;\n",
              "    }\n",
              "\n",
              "    .colab-df-convert {\n",
              "      background-color: #E8F0FE;\n",
              "      border: none;\n",
              "      border-radius: 50%;\n",
              "      cursor: pointer;\n",
              "      display: none;\n",
              "      fill: #1967D2;\n",
              "      height: 32px;\n",
              "      padding: 0 0 0 0;\n",
              "      width: 32px;\n",
              "    }\n",
              "\n",
              "    .colab-df-convert:hover {\n",
              "      background-color: #E2EBFA;\n",
              "      box-shadow: 0px 1px 2px rgba(60, 64, 67, 0.3), 0px 1px 3px 1px rgba(60, 64, 67, 0.15);\n",
              "      fill: #174EA6;\n",
              "    }\n",
              "\n",
              "    [theme=dark] .colab-df-convert {\n",
              "      background-color: #3B4455;\n",
              "      fill: #D2E3FC;\n",
              "    }\n",
              "\n",
              "    [theme=dark] .colab-df-convert:hover {\n",
              "      background-color: #434B5C;\n",
              "      box-shadow: 0px 1px 3px 1px rgba(0, 0, 0, 0.15);\n",
              "      filter: drop-shadow(0px 1px 2px rgba(0, 0, 0, 0.3));\n",
              "      fill: #FFFFFF;\n",
              "    }\n",
              "  </style>\n",
              "\n",
              "      <script>\n",
              "        const buttonEl =\n",
              "          document.querySelector('#df-c54d586f-6ee2-4577-a827-59816055e001 button.colab-df-convert');\n",
              "        buttonEl.style.display =\n",
              "          google.colab.kernel.accessAllowed ? 'block' : 'none';\n",
              "\n",
              "        async function convertToInteractive(key) {\n",
              "          const element = document.querySelector('#df-c54d586f-6ee2-4577-a827-59816055e001');\n",
              "          const dataTable =\n",
              "            await google.colab.kernel.invokeFunction('convertToInteractive',\n",
              "                                                     [key], {});\n",
              "          if (!dataTable) return;\n",
              "\n",
              "          const docLinkHtml = 'Like what you see? Visit the ' +\n",
              "            '<a target=\"_blank\" href=https://colab.research.google.com/notebooks/data_table.ipynb>data table notebook</a>'\n",
              "            + ' to learn more about interactive tables.';\n",
              "          element.innerHTML = '';\n",
              "          dataTable['output_type'] = 'display_data';\n",
              "          await google.colab.output.renderOutput(dataTable, element);\n",
              "          const docLink = document.createElement('div');\n",
              "          docLink.innerHTML = docLinkHtml;\n",
              "          element.appendChild(docLink);\n",
              "        }\n",
              "      </script>\n",
              "    </div>\n",
              "  </div>\n",
              "  "
            ]
          },
          "metadata": {},
          "execution_count": 35
        }
      ]
    },
    {
      "cell_type": "code",
      "source": [
        "log(\"Load Phase Started\")\n",
        "load(targetfile, transformed_data)\n",
        "log(\"Load Phase Ended\")\n"
      ],
      "metadata": {
        "id": "HqcPuiI3Ut0L"
      },
      "execution_count": 36,
      "outputs": []
    },
    {
      "cell_type": "code",
      "source": [
        "log(\"ETL Job Ended\")"
      ],
      "metadata": {
        "id": "_au80M2AU-GU"
      },
      "execution_count": 37,
      "outputs": []
    },
    {
      "cell_type": "code",
      "source": [],
      "metadata": {
        "id": "AjQPKLEeVp0q"
      },
      "execution_count": null,
      "outputs": []
    }
  ]
}